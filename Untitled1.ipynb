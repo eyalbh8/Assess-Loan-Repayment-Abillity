{
  "nbformat": 4,
  "nbformat_minor": 0,
  "metadata": {
    "colab": {
      "name": "Untitled1.ipynb",
      "provenance": [],
      "authorship_tag": "ABX9TyMDH1qNTagYctvVCclA9dId",
      "include_colab_link": true
    },
    "kernelspec": {
      "name": "python3",
      "display_name": "Python 3"
    },
    "language_info": {
      "name": "python"
    }
  },
  "cells": [
    {
      "cell_type": "markdown",
      "metadata": {
        "id": "view-in-github",
        "colab_type": "text"
      },
      "source": [
        "<a href=\"https://colab.research.google.com/github/eyalbh8/Assess-Loan-Repayment-Abillity/blob/main/Untitled1.ipynb\" target=\"_parent\"><img src=\"https://colab.research.google.com/assets/colab-badge.svg\" alt=\"Open In Colab\"/></a>"
      ]
    },
    {
      "cell_type": "code",
      "execution_count": 118,
      "metadata": {
        "id": "6DlVmrdp7qBJ"
      },
      "outputs": [],
      "source": [
        "import pandas as pd\n",
        "import numpy as np\n",
        "import matplotlib.pyplot as plt\n",
      ]
    },
    {
      "cell_type": "code",
      "source": [
        "from google.colab import drive\n",
        "drive.mount('/content/drive')"
      ],
      "metadata": {
        "id": "eAb66tox74XF"
      },
      "execution_count": null,
      "outputs": []
    },
    {
      "cell_type": "code",
      "source": [
        "df = pd.read_csv('/content/drive/MyDrive/FINAL_TF2_FILES/TF_2_Notebooks_and_Data/DATA/lending_club_loan_two.csv')"
      ],
      "metadata": {
        "id": "0lI3Qj4n700p"
      },
      "execution_count": 120,
      "outputs": []
    },
    {
      "cell_type": "code",
      "source": [
        "df['loan_repaid'] = df['loan_status'].map({'Fully Paid': 1, 'Charged Off': 0})\n",
        "df['loan_repaid']\n",
        "df = df.drop('loan_status', axis=1)"
      ],
      "metadata": {
        "id": "uvMDZuUq70vU"
      },
      "execution_count": 121,
      "outputs": []
    },
    {
      "cell_type": "code",
      "source": [
        "df['emp_title'].nunique()  #173106 unique emp_titles\n",
        "df = df.drop('emp_title', axis=1)"
      ],
      "metadata": {
        "id": "Kz5ZS4GzHj9b"
      },
      "execution_count": 122,
      "outputs": []
    },
    {
      "cell_type": "code",
      "source": [
        "df['purpose'].nunique() \n",
        "df = df.drop('purpose', axis=1)"
      ],
      "metadata": {
        "id": "Y-uObKlJ_zLQ"
      },
      "execution_count": 123,
      "outputs": []
    },
    {
      "cell_type": "code",
      "source": [
        "df['title'].nunique() #48818 unique titles\n",
        "df = df.drop('title', axis=1)"
      ],
      "metadata": {
        "id": "u0RA8JGj-bCZ"
      },
      "execution_count": 124,
      "outputs": []
    },
    {
      "cell_type": "code",
      "source": [
        "df['issue_d'].nunique() #115 unique dates\n",
        "df = df.drop('issue_d', axis=1)"
      ],
      "metadata": {
        "id": "VF3ZYM_4-a68"
      },
      "execution_count": 125,
      "outputs": []
    },
    {
      "cell_type": "code",
      "source": [
        "df['address'].nunique() #393700 unique addresses\n",
        "df = df.drop('address', axis=1)"
      ],
      "metadata": {
        "id": "ZH_o9UqK_kxO"
      },
      "execution_count": 126,
      "outputs": []
    },
    {
      "cell_type": "code",
      "source": [
        "df['initial_list_status'].nunique() #2 unique status\n",
        "df['initial_list_status_nums'] = df['initial_list_status'].map({'w': 1, 'f': 0})\n",
        "df = df.drop('initial_list_status', axis=1)"
      ],
      "metadata": {
        "id": "wg2YW4MP_kt_"
      },
      "execution_count": 127,
      "outputs": []
    },
    {
      "cell_type": "code",
      "source": [
        "df['earliest_cr_year'] = df['earliest_cr_line'].apply(lambda date: int(date[-4:])) #the historical time credit stamp\n",
        "df = df.drop('earliest_cr_line', axis=1)                                                      "
      ],
      "metadata": {
        "id": "r5E9w7zR_kpo"
      },
      "execution_count": 128,
      "outputs": []
    },
    {
      "cell_type": "code",
      "source": [
        "df['term'].nunique() #2 terms\n",
        "df['term'] = df['term'].apply(lambda term: int(term[:3]))\n",
        "df['term']"
      ],
      "metadata": {
        "id": "OI9ROCEJ_kjy"
      },
      "execution_count": null,
      "outputs": []
    },
    {
      "cell_type": "code",
      "source": [
        "df['home_ownership'].nunique() #6 labels\n",
        "from sklearn.preprocessing import LabelEncoder\n",
        "le = LabelEncoder()\n",
        "df['home_ownership'] = le.fit_transform(df['home_ownership']) #convert unique lalbels to numbers\n",
        "df['home_ownership']"
      ],
      "metadata": {
        "id": "VkinfW7aoEMt"
      },
      "execution_count": null,
      "outputs": []
    },
    {
      "cell_type": "code",
      "source": [
        "df['verification_status'].nunique() #3 labels\n",
        "df['verification_status'] = le.fit_transform(df['verification_status']) #convert unique lalbels to numbers\n",
        "df['verification_status']"
      ],
      "metadata": {
        "id": "CX5Sq_RtoEJk"
      },
      "execution_count": null,
      "outputs": []
    },
    {
      "cell_type": "code",
      "source": [
        "df['application_type'].unique() #3 types\n",
        "df['application_type'] = le.fit_transform(df['application_type']) #convert unique lalbels to numbers\n",
        "df['application_type']"
      ],
      "metadata": {
        "id": "oRCdCyweoEG6"
      },
      "execution_count": null,
      "outputs": []
    },
    {
      "cell_type": "code",
      "source": [
        "df = df.drop('grade', axis=1) #we know grade is part of subgrade"
      ],
      "metadata": {
        "id": "Ae58x6FeoEDB"
      },
      "execution_count": 133,
      "outputs": []
    },
    {
      "cell_type": "code",
      "source": [
        "df['sub_grade'] = le.fit_transform(df['sub_grade']) #convert unique labels to numbers"
      ],
      "metadata": {
        "id": "QCGUoMrwoD_y"
      },
      "execution_count": 134,
      "outputs": []
    },
    {
      "cell_type": "code",
      "source": [
        "df.isnull().sum() #checking what can we drop"
      ],
      "metadata": {
        "id": "aIaS9xTDoD8_"
      },
      "execution_count": null,
      "outputs": []
    },
    {
      "cell_type": "code",
      "source": [
        "df = df.drop('emp_length', axis=1)"
      ],
      "metadata": {
        "id": "wXNXzEOgoD5k"
      },
      "execution_count": null,
      "outputs": []
    },
    {
      "cell_type": "code",
      "source": [
        "df = df.dropna()"
      ],
      "metadata": {
        "id": "aC8RYiy2ufVj"
      },
      "execution_count": 138,
      "outputs": []
    },
    {
      "cell_type": "code",
      "source": [
        "from sklearn.model_selection import train_test_split\n",
        "\n",
        "X = df.drop('loan_repaid', axis=1).values\n",
        "y = df['loan_repaid'].values\n",
        "\n",
        "X_train, X_test, y_train, y_test = train_test_split( X, y, test_size=0.2, random_state=42)"
      ],
      "metadata": {
        "id": "u_NTkWa-ufN9"
      },
      "execution_count": 139,
      "outputs": []
    },
    {
      "cell_type": "code",
      "source": [
        "from sklearn.preprocessing import MinMaxScaler\n",
        "\n",
        "scaler = MinMaxScaler()\n",
        "\n",
        "X_train = scaler.fit_transform(X_train)\n",
        "X_test = scaler.transform(X_test)"
      ],
      "metadata": {
        "id": "iv8YSFFGufKn"
      },
      "execution_count": 141,
      "outputs": []
    },
    {
      "cell_type": "code",
      "source": [
        "import tensorflow as tf\n",
        "from tensorflow.keras.models import Sequential\n",
        "from tensorflow.keras.layers import Dense, Dropout\n",
        "from tensorflow.keras.callbacks import EarlyStopping\n",
        "\n",
        "model = Sequential()\n",
        "\n",
        "model.add(Dense(19, activation='relu'))\n",
        "model.add(Dropout(0.2))\n",
        "\n",
        "model.add(Dense(9, activation='relu'))\n",
        "model.add(Dropout(0.2))\n",
        "\n",
        "model.add(Dense(4, activation='relu'))\n",
        "model.add(Dropout(0.2))\n",
        "\n",
        "model.add(Dense(1, activation='sigmoid'))\n",
        "\n",
        "model.compile(loss='binary_crossentropy', optimizer='adam' )"
      ],
      "metadata": {
        "id": "5nfD2hQIufFN"
      },
      "execution_count": 156,
      "outputs": []
    },
    {
      "cell_type": "code",
      "source": [
        "early_stop = EarlyStopping(monitor='val_loss', mode='min', verbose=1, patience=25)"
      ],
      "metadata": {
        "id": "PMfL8b004rEx"
      },
      "execution_count": 146,
      "outputs": []
    },
    {
      "cell_type": "code",
      "source": [
        "model.fit(x=X_train, y=y_train, epochs=25, batch_size=256, validation_data=(X_test, y_test), callbacks=early_stop)"
      ],
      "metadata": {
        "id": "FOed8GIV4Waa"
      },
      "execution_count": null,
      "outputs": []
    },
    {
      "cell_type": "code",
      "source": [
        "losses = pd.DataFrame(model.history.history)\n",
        "losses[['loss', 'val_loss']].plot()"
      ],
      "metadata": {
        "id": "_zG7QwF84WWD"
      },
      "execution_count": null,
      "outputs": []
    },
    {
      "cell_type": "code",
      "source": [
        "import random\n",
        "random.seed(42)\n",
        "rand_indx = random.randint(0,len(df))\n",
        "\n",
        "New_customer = df.drop('loan_repaid', axis=1).iloc[rand_indx]\n",
        "New_customer"
      ],
      "metadata": {
        "id": "3EhsC3kW4WQr"
      },
      "execution_count": null,
      "outputs": []
    },
    {
      "cell_type": "code",
      "source": [
        "model.predict_(New_customer.values.reshape(1,19))"
      ],
      "metadata": {
        "colab": {
          "base_uri": "https://localhost:8080/"
        },
        "id": "1q00gN_N8Uyv",
        "outputId": "2ae10ec4-cfca-41b9-c35a-856ae4f37f1b"
      },
      "execution_count": 160,
      "outputs": [
        {
          "output_type": "execute_result",
          "data": {
            "text/plain": [
              "array([[0.8808441]], dtype=float32)"
            ]
          },
          "metadata": {},
          "execution_count": 160
        }
      ]
    }
  ]
}
