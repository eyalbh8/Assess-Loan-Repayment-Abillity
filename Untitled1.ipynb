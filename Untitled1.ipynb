{
  "nbformat": 4,
  "nbformat_minor": 0,
  "metadata": {
    "colab": {
      "name": "Untitled1.ipynb",
      "provenance": [],
      "toc_visible": true,
      "authorship_tag": "ABX9TyOPc324wIaN2F9MxEirtecn",
      "include_colab_link": true
    },
    "kernelspec": {
      "name": "python3",
      "display_name": "Python 3"
    },
    "language_info": {
      "name": "python"
    }
  },
  "cells": [
    {
      "cell_type": "markdown",
      "metadata": {
        "id": "view-in-github",
        "colab_type": "text"
      },
      "source": [
        "<a href=\"https://colab.research.google.com/github/eyalbh8/Assess-Loan-Repayment-Abillity/blob/main/Untitled1.ipynb\" target=\"_parent\"><img src=\"https://colab.research.google.com/assets/colab-badge.svg\" alt=\"Open In Colab\"/></a>"
      ]
    },
    {
      "cell_type": "code",
      "execution_count": 132,
      "metadata": {
        "id": "6DlVmrdp7qBJ"
      },
      "outputs": [],
      "source": [
        "import pandas as pd\n",
        "import numpy as np\n",
        "import matplotlib.pyplot as plt\n",
        "import seaborn as sns"
      ]
    },
    {
      "cell_type": "code",
      "source": [
        "from google.colab import drive\n",
        "drive.mount('/content/drive')"
      ],
      "metadata": {
        "id": "eAb66tox74XF"
      },
      "execution_count": null,
      "outputs": []
    },
    {
      "cell_type": "code",
      "source": [
        "df = pd.read_csv('/content/drive/MyDrive/FINAL_TF2_FILES/TF_2_Notebooks_and_Data/DATA/lending_club_loan_two.csv')"
      ],
      "metadata": {
        "id": "0lI3Qj4n700p"
      },
      "execution_count": 158,
      "outputs": []
    },
    {
      "cell_type": "markdown",
      "source": [
        "# Orgenizing data before training\n"
      ],
      "metadata": {
        "id": "B2ZpsMF4qRdh"
      }
    },
    {
      "cell_type": "code",
      "source": [
        "df['loan_repaid'] = df['loan_status'].map({'Fully Paid': 1, 'Charged Off': 0})\n",
        "df = df.drop('loan_status', axis=1)"
      ],
      "metadata": {
        "id": "uvMDZuUq70vU"
      },
      "execution_count": 159,
      "outputs": []
    },
    {
      "cell_type": "code",
      "source": [
        "df['emp_title'].nunique()  #173106 unique emp_titles\n",
        "df = df.drop('emp_title', axis=1)"
      ],
      "metadata": {
        "id": "Kz5ZS4GzHj9b"
      },
      "execution_count": 160,
      "outputs": []
    },
    {
      "cell_type": "code",
      "source": [
        "df['purpose'].nunique() #14 unique purpose\n",
        "dummies = pd.get_dummies(df['purpose'], drop_first=True)\n",
        "df = pd.concat([df.drop('purpose',axis=1), dummies],axis=1)"
      ],
      "metadata": {
        "id": "Y-uObKlJ_zLQ"
      },
      "execution_count": 161,
      "outputs": []
    },
    {
      "cell_type": "code",
      "source": [
        "df['title'].nunique() #48818 unique titles\n",
        "df = df.drop('title', axis=1)"
      ],
      "metadata": {
        "id": "u0RA8JGj-bCZ"
      },
      "execution_count": 162,
      "outputs": []
    },
    {
      "cell_type": "code",
      "source": [
        "df['issue_d'].nunique() #115 unique dates\n",
        "df = df.drop('issue_d', axis=1)"
      ],
      "metadata": {
        "id": "VF3ZYM_4-a68"
      },
      "execution_count": 163,
      "outputs": []
    },
    {
      "cell_type": "code",
      "source": [
        "df['address'].nunique() #393700 unique addresses\n",
        "df = df.drop('address', axis=1)"
      ],
      "metadata": {
        "id": "ZH_o9UqK_kxO"
      },
      "execution_count": 164,
      "outputs": []
    },
    {
      "cell_type": "code",
      "source": [
        "df['earliest_cr_year'] = df['earliest_cr_line'].apply(lambda date: int(date[-4:])) #the historical time credit stamp\n",
        "df = df.drop('earliest_cr_line', axis=1)                                                      \n",
        "df['earliest_cr_year'].nunique()"
      ],
      "metadata": {
        "id": "r5E9w7zR_kpo",
        "outputId": "6cb393c9-0f85-43fb-c9cb-a6b35a4d71be",
        "colab": {
          "base_uri": "https://localhost:8080/"
        }
      },
      "execution_count": 165,
      "outputs": [
        {
          "output_type": "execute_result",
          "data": {
            "text/plain": [
              "65"
            ]
          },
          "metadata": {},
          "execution_count": 165
        }
      ]
    },
    {
      "cell_type": "code",
      "source": [
        "df['term'].nunique() #2 terms\n",
        "df['term'] = df['term'].apply(lambda term: int(term[:3]))\n",
        "df['term']"
      ],
      "metadata": {
        "id": "OI9ROCEJ_kjy",
        "outputId": "2c935ad6-1b84-4f62-f451-37c6c1326ea1",
        "colab": {
          "base_uri": "https://localhost:8080/"
        }
      },
      "execution_count": 166,
      "outputs": [
        {
          "output_type": "execute_result",
          "data": {
            "text/plain": [
              "0         36\n",
              "1         36\n",
              "2         36\n",
              "3         36\n",
              "4         60\n",
              "          ..\n",
              "396025    60\n",
              "396026    36\n",
              "396027    36\n",
              "396028    60\n",
              "396029    36\n",
              "Name: term, Length: 396030, dtype: int64"
            ]
          },
          "metadata": {},
          "execution_count": 166
        }
      ]
    },
    {
      "cell_type": "code",
      "source": [
        "df['home_ownership'].unique() #convert ANY and NONE to OTHER\n",
        "df['home_ownership'] = df['home_ownership'].replace(['ANY', 'NONE'], 'OTHER')\n",
        "dummies = pd.get_dummies(df['home_ownership'], drop_first=True)\n",
        "df = pd.concat([df.drop('home_ownership',axis=1), dummies],axis=1)"
      ],
      "metadata": {
        "id": "eUJ7gBSI076-"
      },
      "execution_count": 167,
      "outputs": []
    },
    {
      "cell_type": "code",
      "source": [
        "dummies = pd.get_dummies(df[['verification_status', 'application_type', 'initial_list_status']], drop_first=True)\n",
        "df = pd.concat([df.drop(['verification_status', 'application_type', 'initial_list_status'],axis=1), dummies],axis=1)"
      ],
      "metadata": {
        "id": "CX5Sq_RtoEJk"
      },
      "execution_count": 168,
      "outputs": []
    },
    {
      "cell_type": "code",
      "source": [
        "df = df.drop('grade', axis=1) #we know grade is part of subgrade"
      ],
      "metadata": {
        "id": "Ae58x6FeoEDB"
      },
      "execution_count": 169,
      "outputs": []
    },
    {
      "cell_type": "code",
      "source": [
        "dummies = pd.get_dummies(df['sub_grade'], drop_first=True)\n",
        "df = pd.concat([df.drop('sub_grade',axis=1), dummies],axis=1)"
      ],
      "metadata": {
        "id": "QCGUoMrwoD_y"
      },
      "execution_count": 170,
      "outputs": []
    },
    {
      "cell_type": "code",
      "source": [
        "df.isnull().sum() #checking what can we drop"
      ],
      "metadata": {
        "id": "aIaS9xTDoD8_",
        "outputId": "5e4a2d10-1f36-4a1a-c852-c85a52fcf6b9",
        "colab": {
          "base_uri": "https://localhost:8080/"
        }
      },
      "execution_count": 171,
      "outputs": [
        {
          "output_type": "execute_result",
          "data": {
            "text/plain": [
              "loan_amnt          0\n",
              "term               0\n",
              "int_rate           0\n",
              "installment        0\n",
              "emp_length     18301\n",
              "               ...  \n",
              "G1                 0\n",
              "G2                 0\n",
              "G3                 0\n",
              "G4                 0\n",
              "G5                 0\n",
              "Length: 71, dtype: int64"
            ]
          },
          "metadata": {},
          "execution_count": 171
        }
      ]
    },
    {
      "cell_type": "code",
      "source": [
        "df = df.drop('emp_length', axis=1)"
      ],
      "metadata": {
        "id": "wXNXzEOgoD5k"
      },
      "execution_count": 172,
      "outputs": []
    },
    {
      "cell_type": "code",
      "source": [
        "df = df.dropna()\n",
        "df.shape"
      ],
      "metadata": {
        "id": "aC8RYiy2ufVj",
        "outputId": "563ed44b-5054-4ec2-970f-fe5796750e63",
        "colab": {
          "base_uri": "https://localhost:8080/"
        }
      },
      "execution_count": 177,
      "outputs": [
        {
          "output_type": "execute_result",
          "data": {
            "text/plain": [
              "(358014, 70)"
            ]
          },
          "metadata": {},
          "execution_count": 177
        }
      ]
    },
    {
      "cell_type": "markdown",
      "source": [
        "# Creating and training the model"
      ],
      "metadata": {
        "id": "30J5uhbsrZWx"
      }
    },
    {
      "cell_type": "code",
      "source": [
        "from sklearn.model_selection import train_test_split\n",
        "\n",
        "X = df.drop('loan_repaid', axis=1).values\n",
        "y = df['loan_repaid'].values\n",
        "\n",
        "X_train, X_test, y_train, y_test = train_test_split( X, y, test_size=0.2, random_state=101)"
      ],
      "metadata": {
        "id": "u_NTkWa-ufN9"
      },
      "execution_count": 174,
      "outputs": []
    },
    {
      "cell_type": "code",
      "source": [
        "from sklearn.preprocessing import MinMaxScaler\n",
        "\n",
        "scaler = MinMaxScaler()\n",
        "\n",
        "X_train = scaler.fit_transform(X_train)\n",
        "X_test = scaler.transform(X_test)"
      ],
      "metadata": {
        "id": "iv8YSFFGufKn"
      },
      "execution_count": 175,
      "outputs": []
    },
    {
      "cell_type": "code",
      "source": [
        "import tensorflow as tf\n",
        "from tensorflow.keras.models import Sequential\n",
        "from tensorflow.keras.layers import Dense, Dropout\n",
        "from tensorflow.keras.callbacks import EarlyStopping\n",
        "\n",
        "model = Sequential()\n",
        "\n",
        "model.add(Dense(70, activation='relu'))\n",
        "model.add(Dropout(0.2))\n",
        "\n",
        "model.add(Dense(35, activation='relu'))\n",
        "model.add(Dropout(0.2))\n",
        "\n",
        "model.add(Dense(17, activation='relu'))\n",
        "model.add(Dropout(0.2))\n",
        "\n",
        "model.add(Dense(1, activation='sigmoid'))\n",
        "\n",
        "model.compile(loss='binary_crossentropy', optimizer='adam' )"
      ],
      "metadata": {
        "id": "5nfD2hQIufFN"
      },
      "execution_count": 178,
      "outputs": []
    },
    {
      "cell_type": "code",
      "source": [
        "early_stop = EarlyStopping(monitor='val_loss', mode='min', verbose=1, patience=25)"
      ],
      "metadata": {
        "id": "PMfL8b004rEx"
      },
      "execution_count": 179,
      "outputs": []
    },
    {
      "cell_type": "code",
      "source": [
        "model.fit(x=X_train, y=y_train, epochs=25, batch_size=256, validation_data=(X_test, y_test), callbacks=early_stop)"
      ],
      "metadata": {
        "id": "FOed8GIV4Waa",
        "outputId": "e38ee3f9-5caf-4ee0-db26-b6a6565ca0e1",
        "colab": {
          "base_uri": "https://localhost:8080/"
        }
      },
      "execution_count": 180,
      "outputs": [
        {
          "output_type": "stream",
          "name": "stdout",
          "text": [
            "Epoch 1/25\n",
            "1119/1119 [==============================] - 7s 5ms/step - loss: 0.4779 - val_loss: 0.4635\n",
            "Epoch 2/25\n",
            "1119/1119 [==============================] - 5s 5ms/step - loss: 0.4680 - val_loss: 0.4621\n",
            "Epoch 3/25\n",
            "1119/1119 [==============================] - 4s 3ms/step - loss: 0.4655 - val_loss: 0.4613\n",
            "Epoch 4/25\n",
            "1119/1119 [==============================] - 4s 3ms/step - loss: 0.4639 - val_loss: 0.4612\n",
            "Epoch 5/25\n",
            "1119/1119 [==============================] - 3s 3ms/step - loss: 0.4627 - val_loss: 0.4604\n",
            "Epoch 6/25\n",
            "1119/1119 [==============================] - 3s 3ms/step - loss: 0.4625 - val_loss: 0.4600\n",
            "Epoch 7/25\n",
            "1119/1119 [==============================] - 3s 3ms/step - loss: 0.4618 - val_loss: 0.4605\n",
            "Epoch 8/25\n",
            "1119/1119 [==============================] - 3s 3ms/step - loss: 0.4610 - val_loss: 0.4590\n",
            "Epoch 9/25\n",
            "1119/1119 [==============================] - 3s 3ms/step - loss: 0.4605 - val_loss: 0.4586\n",
            "Epoch 10/25\n",
            "1119/1119 [==============================] - 3s 3ms/step - loss: 0.4599 - val_loss: 0.4590\n",
            "Epoch 11/25\n",
            "1119/1119 [==============================] - 3s 3ms/step - loss: 0.4597 - val_loss: 0.4584\n",
            "Epoch 12/25\n",
            "1119/1119 [==============================] - 3s 3ms/step - loss: 0.4591 - val_loss: 0.4578\n",
            "Epoch 13/25\n",
            "1119/1119 [==============================] - 3s 3ms/step - loss: 0.4589 - val_loss: 0.4584\n",
            "Epoch 14/25\n",
            "1119/1119 [==============================] - 3s 3ms/step - loss: 0.4588 - val_loss: 0.4578\n",
            "Epoch 15/25\n",
            "1119/1119 [==============================] - 3s 3ms/step - loss: 0.4584 - val_loss: 0.4566\n",
            "Epoch 16/25\n",
            "1119/1119 [==============================] - 3s 3ms/step - loss: 0.4583 - val_loss: 0.4570\n",
            "Epoch 17/25\n",
            "1119/1119 [==============================] - 3s 3ms/step - loss: 0.4576 - val_loss: 0.4569\n",
            "Epoch 18/25\n",
            "1119/1119 [==============================] - 3s 3ms/step - loss: 0.4574 - val_loss: 0.4569\n",
            "Epoch 19/25\n",
            "1119/1119 [==============================] - 3s 3ms/step - loss: 0.4567 - val_loss: 0.4558\n",
            "Epoch 20/25\n",
            "1119/1119 [==============================] - 3s 3ms/step - loss: 0.4564 - val_loss: 0.4562\n",
            "Epoch 21/25\n",
            "1119/1119 [==============================] - 3s 3ms/step - loss: 0.4561 - val_loss: 0.4558\n",
            "Epoch 22/25\n",
            "1119/1119 [==============================] - 3s 3ms/step - loss: 0.4560 - val_loss: 0.4562\n",
            "Epoch 23/25\n",
            "1119/1119 [==============================] - 3s 3ms/step - loss: 0.4559 - val_loss: 0.4563\n",
            "Epoch 24/25\n",
            "1119/1119 [==============================] - 3s 3ms/step - loss: 0.4557 - val_loss: 0.4557\n",
            "Epoch 25/25\n",
            "1119/1119 [==============================] - 3s 3ms/step - loss: 0.4554 - val_loss: 0.4554\n"
          ]
        },
        {
          "output_type": "execute_result",
          "data": {
            "text/plain": [
              "<keras.callbacks.History at 0x7f951ff80f10>"
            ]
          },
          "metadata": {},
          "execution_count": 180
        }
      ]
    },
    {
      "cell_type": "markdown",
      "source": [
        "# Evaluating the model"
      ],
      "metadata": {
        "id": "JrEFgetqrk8E"
      }
    },
    {
      "cell_type": "code",
      "source": [
        "losses = pd.DataFrame(model.history.history)\n",
        "losses[['loss', 'val_loss']].plot()"
      ],
      "metadata": {
        "id": "_zG7QwF84WWD",
        "outputId": "51bcfd1f-66c2-458b-a10b-2527b71a035b",
        "colab": {
          "base_uri": "https://localhost:8080/",
          "height": 283
        }
      },
      "execution_count": 181,
      "outputs": [
        {
          "output_type": "execute_result",
          "data": {
            "text/plain": [
              "<matplotlib.axes._subplots.AxesSubplot at 0x7f95204cfb10>"
            ]
          },
          "metadata": {},
          "execution_count": 181
        },
        {
          "output_type": "display_data",
          "data": {
            "image/png": "[encoded data removed]",
            "text/plain": [
              "<Figure size 432x288 with 1 Axes>"
            ]
          },
          "metadata": {
            "needs_background": "light"
          }
        }
      ]
    },
    {
      "cell_type": "code",
      "source": [
        "import random\n",
        "random.seed(101)\n",
        "rand_indx = random.randint(0,len(df))\n",
        "\n",
        "New_customer = df.drop('loan_repaid', axis=1).iloc[rand_indx]\n",
        "New_customer"
      ],
      "metadata": {
        "id": "3EhsC3kW4WQr",
        "outputId": "4576ba68-7a0c-4dd4-eb42-205193a7aacc",
        "colab": {
          "base_uri": "https://localhost:8080/"
        }
      },
      "execution_count": 187,
      "outputs": [
        {
          "output_type": "execute_result",
          "data": {
            "text/plain": [
              "loan_amnt      35000.00\n",
              "term              60.00\n",
              "int_rate          22.45\n",
              "installment      975.64\n",
              "annual_inc     94000.00\n",
              "                 ...   \n",
              "G1                 0.00\n",
              "G2                 0.00\n",
              "G3                 0.00\n",
              "G4                 0.00\n",
              "G5                 0.00\n",
              "Name: 337106, Length: 69, dtype: float64"
            ]
          },
          "metadata": {},
          "execution_count": 187
        }
      ]
    },
    {
      "cell_type": "code",
      "source": [
        "prediction = model.predict(New_customer.values.reshape(1,69))\n",
        "np.argmax(prediction)"
      ],
      "metadata": {
        "colab": {
          "base_uri": "https://localhost:8080/"
        },
        "id": "1q00gN_N8Uyv",
        "outputId": "097625fe-166e-4fdb-9ef2-cea60cdf14db"
      },
      "execution_count": 188,
      "outputs": [
        {
          "output_type": "execute_result",
          "data": {
            "text/plain": [
              "0"
            ]
          },
          "metadata": {},
          "execution_count": 188
        }
      ]
    },
    {
      "cell_type": "code",
      "source": [
        "df['loan_repaid'].iloc[rand_indx]"
      ],
      "metadata": {
        "id": "pJSntk0LrP5w",
        "outputId": "40e63daa-e8b2-4886-a965-4f09d55263c3",
        "colab": {
          "base_uri": "https://localhost:8080/"
        }
      },
      "execution_count": 189,
      "outputs": [
        {
          "output_type": "execute_result",
          "data": {
            "text/plain": [
              "0"
            ]
          },
          "metadata": {},
          "execution_count": 189
        }
      ]
    }
  ]
}