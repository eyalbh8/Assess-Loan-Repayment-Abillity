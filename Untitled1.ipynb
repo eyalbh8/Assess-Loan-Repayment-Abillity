{
  "nbformat": 4,
  "nbformat_minor": 0,
  "metadata": {
    "colab": {
      "name": "Untitled1.ipynb",
      "provenance": [],
      "toc_visible": true,
      "authorship_tag": "ABX9TyPdoqkZXZYHRzdn8Ysy/iZ2",
      "include_colab_link": true
    },
    "kernelspec": {
      "name": "python3",
      "display_name": "Python 3"
    },
    "language_info": {
      "name": "python"
    }
  },
  "cells": [
    {
      "cell_type": "markdown",
      "metadata": {
        "id": "view-in-github",
        "colab_type": "text"
      },
      "source": [
        "<a href=\"https://colab.research.google.com/github/eyalbh8/Assess-Loan-Repayment-Abillity/blob/main/Untitled1.ipynb\" target=\"_parent\"><img src=\"https://colab.research.google.com/assets/colab-badge.svg\" alt=\"Open In Colab\"/></a>"
      ]
    },
    {
      "cell_type": "code",
      "execution_count": null,
      "metadata": {
        "id": "6DlVmrdp7qBJ"
      },
      "outputs": [],
      "source": [
        "import pandas as pd\n",
        "import numpy as np\n",
        "import matplotlib.pyplot as plt\n",
        "import seaborn as sns"
      ]
    },
    {
      "cell_type": "code",
      "source": [
        "from google.colab import drive\n",
        "drive.mount('/content/drive')"
      ],
      "metadata": {
        "id": "eAb66tox74XF"
      },
      "execution_count": null,
      "outputs": []
    },
    {
      "cell_type": "code",
      "source": [
        "df = pd.read_csv('/content/drive/MyDrive/FINAL_TF2_FILES/TF_2_Notebooks_and_Data/DATA/lending_club_loan_two.csv')"
      ],
      "metadata": {
        "id": "0lI3Qj4n700p"
      },
      "execution_count": null,
      "outputs": []
    },
    {
      "cell_type": "markdown",
      "source": [
        "# Orgenizing data before training\n"
      ],
      "metadata": {
        "id": "B2ZpsMF4qRdh"
      }
    },
    {
      "cell_type": "code",
      "source": [
        "df['loan_repaid'] = df['loan_status'].map({'Fully Paid': 1, 'Charged Off': 0})\n",
        "df['loan_repaid']\n",
        "df = df.drop('loan_status', axis=1)"
      ],
      "metadata": {
        "id": "uvMDZuUq70vU"
      },
      "execution_count": null,
      "outputs": []
    },
    {
      "cell_type": "code",
      "source": [
        "df['emp_title'].nunique()  #173106 unique emp_titles\n",
        "df = df.drop('emp_title', axis=1)"
      ],
      "metadata": {
        "id": "Kz5ZS4GzHj9b"
      },
      "execution_count": null,
      "outputs": []
    },
    {
      "cell_type": "code",
      "source": [
        "df['purpose'].nunique() \n",
        "df = df.drop('purpose', axis=1)"
      ],
      "metadata": {
        "id": "Y-uObKlJ_zLQ"
      },
      "execution_count": null,
      "outputs": []
    },
    {
      "cell_type": "code",
      "source": [
        "df['title'].nunique() #48818 unique titles\n",
        "df = df.drop('title', axis=1)"
      ],
      "metadata": {
        "id": "u0RA8JGj-bCZ"
      },
      "execution_count": null,
      "outputs": []
    },
    {
      "cell_type": "code",
      "source": [
        "df['issue_d'].nunique() #115 unique dates\n",
        "df = df.drop('issue_d', axis=1)"
      ],
      "metadata": {
        "id": "VF3ZYM_4-a68"
      },
      "execution_count": null,
      "outputs": []
    },
    {
      "cell_type": "code",
      "source": [
        "df['address'].nunique() #393700 unique addresses\n",
        "df = df.drop('address', axis=1)"
      ],
      "metadata": {
        "id": "ZH_o9UqK_kxO"
      },
      "execution_count": null,
      "outputs": []
    },
    {
      "cell_type": "code",
      "source": [
        "df['initial_list_status'].nunique() #2 unique status\n",
        "df['initial_list_status_nums'] = df['initial_list_status'].map({'w': 1, 'f': 0})\n",
        "df = df.drop('initial_list_status', axis=1)"
      ],
      "metadata": {
        "id": "wg2YW4MP_kt_"
      },
      "execution_count": null,
      "outputs": []
    },
    {
      "cell_type": "code",
      "source": [
        "df['earliest_cr_year'] = df['earliest_cr_line'].apply(lambda date: int(date[-4:])) #the historical time credit stamp\n",
        "df = df.drop('earliest_cr_line', axis=1)                                                      "
      ],
      "metadata": {
        "id": "r5E9w7zR_kpo"
      },
      "execution_count": null,
      "outputs": []
    },
    {
      "cell_type": "code",
      "source": [
        "df['term'].nunique() #2 terms\n",
        "df['term'] = df['term'].apply(lambda term: int(term[:3]))\n",
        "df['term']"
      ],
      "metadata": {
        "id": "OI9ROCEJ_kjy",
        "outputId": "d38c84af-bb9c-4861-c348-dd2a2de5e266",
        "colab": {
          "base_uri": "https://localhost:8080/"
        }
      },
      "execution_count": null,
      "outputs": [
        {
          "output_type": "execute_result",
          "data": {
            "text/plain": [
              "0         36\n",
              "1         36\n",
              "2         36\n",
              "3         36\n",
              "4         60\n",
              "          ..\n",
              "396025    60\n",
              "396026    36\n",
              "396027    36\n",
              "396028    60\n",
              "396029    36\n",
              "Name: term, Length: 396030, dtype: int64"
            ]
          },
          "metadata": {},
          "execution_count": 12
        }
      ]
    },
    {
      "cell_type": "code",
      "source": [
        "df['home_ownership'].nunique() #6 labels\n",
        "from sklearn.preprocessing import LabelEncoder\n",
        "le = LabelEncoder()\n",
        "df['home_ownership'] = le.fit_transform(df['home_ownership']) #convert unique lalbels to numbers\n",
        "df['home_ownership']"
      ],
      "metadata": {
        "id": "VkinfW7aoEMt",
        "outputId": "78514547-8ef6-4823-b445-f1c6814d95b4",
        "colab": {
          "base_uri": "https://localhost:8080/"
        }
      },
      "execution_count": null,
      "outputs": [
        {
          "output_type": "execute_result",
          "data": {
            "text/plain": [
              "0         5\n",
              "1         1\n",
              "2         5\n",
              "3         5\n",
              "4         1\n",
              "         ..\n",
              "396025    5\n",
              "396026    1\n",
              "396027    5\n",
              "396028    1\n",
              "396029    5\n",
              "Name: home_ownership, Length: 396030, dtype: int64"
            ]
          },
          "metadata": {},
          "execution_count": 13
        }
      ]
    },
    {
      "cell_type": "code",
      "source": [
        "df['verification_status'].nunique() #3 labels\n",
        "df['verification_status'] = le.fit_transform(df['verification_status']) #convert unique lalbels to numbers\n",
        "df['verification_status']"
      ],
      "metadata": {
        "id": "CX5Sq_RtoEJk",
        "outputId": "b8887eda-610c-49f0-db19-0c567948ec15",
        "colab": {
          "base_uri": "https://localhost:8080/"
        }
      },
      "execution_count": null,
      "outputs": [
        {
          "output_type": "execute_result",
          "data": {
            "text/plain": [
              "0         0\n",
              "1         0\n",
              "2         1\n",
              "3         0\n",
              "4         2\n",
              "         ..\n",
              "396025    1\n",
              "396026    1\n",
              "396027    2\n",
              "396028    2\n",
              "396029    2\n",
              "Name: verification_status, Length: 396030, dtype: int64"
            ]
          },
          "metadata": {},
          "execution_count": 14
        }
      ]
    },
    {
      "cell_type": "code",
      "source": [
        "df['application_type'].unique() #3 types\n",
        "df['application_type'] = le.fit_transform(df['application_type']) #convert unique lalbels to numbers\n",
        "df['application_type']"
      ],
      "metadata": {
        "id": "oRCdCyweoEG6",
        "outputId": "d5d0e25d-7579-4157-bb74-936519711ca1",
        "colab": {
          "base_uri": "https://localhost:8080/"
        }
      },
      "execution_count": null,
      "outputs": [
        {
          "output_type": "execute_result",
          "data": {
            "text/plain": [
              "0         1\n",
              "1         1\n",
              "2         1\n",
              "3         1\n",
              "4         1\n",
              "         ..\n",
              "396025    1\n",
              "396026    1\n",
              "396027    1\n",
              "396028    1\n",
              "396029    1\n",
              "Name: application_type, Length: 396030, dtype: int64"
            ]
          },
          "metadata": {},
          "execution_count": 15
        }
      ]
    },
    {
      "cell_type": "code",
      "source": [
        "df = df.drop('grade', axis=1) #we know grade is part of subgrade"
      ],
      "metadata": {
        "id": "Ae58x6FeoEDB"
      },
      "execution_count": null,
      "outputs": []
    },
    {
      "cell_type": "code",
      "source": [
        "df['sub_grade'] = le.fit_transform(df['sub_grade']) #convert unique labels to numbers"
      ],
      "metadata": {
        "id": "QCGUoMrwoD_y"
      },
      "execution_count": null,
      "outputs": []
    },
    {
      "cell_type": "code",
      "source": [
        "df.isnull().sum() #checking what can we drop"
      ],
      "metadata": {
        "id": "aIaS9xTDoD8_",
        "outputId": "83cbac6b-dd06-4cb2-fa6b-d47515d14ecc",
        "colab": {
          "base_uri": "https://localhost:8080/"
        }
      },
      "execution_count": null,
      "outputs": [
        {
          "output_type": "execute_result",
          "data": {
            "text/plain": [
              "loan_amnt                       0\n",
              "term                            0\n",
              "int_rate                        0\n",
              "installment                     0\n",
              "sub_grade                       0\n",
              "emp_length                  18301\n",
              "home_ownership                  0\n",
              "annual_inc                      0\n",
              "verification_status             0\n",
              "dti                             0\n",
              "open_acc                        0\n",
              "pub_rec                         0\n",
              "revol_bal                       0\n",
              "revol_util                    276\n",
              "total_acc                       0\n",
              "application_type                0\n",
              "mort_acc                    37795\n",
              "pub_rec_bankruptcies          535\n",
              "loan_repaid                     0\n",
              "initial_list_status_nums        0\n",
              "earliest_cr_year                0\n",
              "dtype: int64"
            ]
          },
          "metadata": {},
          "execution_count": 18
        }
      ]
    },
    {
      "cell_type": "code",
      "source": [
        "df = df.drop('emp_length', axis=1)"
      ],
      "metadata": {
        "id": "wXNXzEOgoD5k"
      },
      "execution_count": null,
      "outputs": []
    },
    {
      "cell_type": "code",
      "source": [
        "df = df.dropna()"
      ],
      "metadata": {
        "id": "aC8RYiy2ufVj"
      },
      "execution_count": null,
      "outputs": []
    },
    {
      "cell_type": "markdown",
      "source": [
        "# Creating and training the model"
      ],
      "metadata": {
        "id": "30J5uhbsrZWx"
      }
    },
    {
      "cell_type": "code",
      "source": [
        "from sklearn.model_selection import train_test_split\n",
        "\n",
        "X = df.drop('loan_repaid', axis=1).values\n",
        "y = df['loan_repaid'].values\n",
        "\n",
        "X_train, X_test, y_train, y_test = train_test_split( X, y, test_size=0.2, random_state=42)"
      ],
      "metadata": {
        "id": "u_NTkWa-ufN9"
      },
      "execution_count": null,
      "outputs": []
    },
    {
      "cell_type": "code",
      "source": [
        "from sklearn.preprocessing import MinMaxScaler\n",
        "\n",
        "scaler = MinMaxScaler()\n",
        "\n",
        "X_train = scaler.fit_transform(X_train)\n",
        "X_test = scaler.transform(X_test)"
      ],
      "metadata": {
        "id": "iv8YSFFGufKn"
      },
      "execution_count": null,
      "outputs": []
    },
    {
      "cell_type": "code",
      "source": [
        "import tensorflow as tf\n",
        "from tensorflow.keras.models import Sequential\n",
        "from tensorflow.keras.layers import Dense, Dropout\n",
        "from tensorflow.keras.callbacks import EarlyStopping\n",
        "\n",
        "model = Sequential()\n",
        "\n",
        "model.add(Dense(19, activation='relu'))\n",
        "model.add(Dropout(0.2))\n",
        "\n",
        "model.add(Dense(9, activation='relu'))\n",
        "model.add(Dropout(0.2))\n",
        "\n",
        "model.add(Dense(4, activation='relu'))\n",
        "model.add(Dropout(0.2))\n",
        "\n",
        "model.add(Dense(1, activation='sigmoid'))\n",
        "\n",
        "model.compile(loss='binary_crossentropy', optimizer='adam' )"
      ],
      "metadata": {
        "id": "5nfD2hQIufFN"
      },
      "execution_count": null,
      "outputs": []
    },
    {
      "cell_type": "code",
      "source": [
        "early_stop = EarlyStopping(monitor='val_loss', mode='min', verbose=1, patience=25)"
      ],
      "metadata": {
        "id": "PMfL8b004rEx"
      },
      "execution_count": null,
      "outputs": []
    },
    {
      "cell_type": "code",
      "source": [
        "model.fit(x=X_train, y=y_train, epochs=25, batch_size=256, validation_data=(X_test, y_test), callbacks=early_stop)"
      ],
      "metadata": {
        "id": "FOed8GIV4Waa",
        "outputId": "a64371ac-1227-4ecd-d31c-796386b8a23b",
        "colab": {
          "base_uri": "https://localhost:8080/"
        }
      },
      "execution_count": null,
      "outputs": [
        {
          "output_type": "stream",
          "name": "stdout",
          "text": [
            "Epoch 1/25\n",
            "1119/1119 [==============================] - 3s 2ms/step - loss: 0.4997 - val_loss: 0.4678\n",
            "Epoch 2/25\n",
            "1119/1119 [==============================] - 2s 2ms/step - loss: 0.4749 - val_loss: 0.4666\n",
            "Epoch 3/25\n",
            "1119/1119 [==============================] - 2s 2ms/step - loss: 0.4717 - val_loss: 0.4664\n",
            "Epoch 4/25\n",
            "1119/1119 [==============================] - 2s 2ms/step - loss: 0.4707 - val_loss: 0.4663\n",
            "Epoch 5/25\n",
            "1119/1119 [==============================] - 2s 2ms/step - loss: 0.4706 - val_loss: 0.4659\n",
            "Epoch 6/25\n",
            "1119/1119 [==============================] - 2s 2ms/step - loss: 0.4697 - val_loss: 0.4650\n",
            "Epoch 7/25\n",
            "1119/1119 [==============================] - 2s 2ms/step - loss: 0.4690 - val_loss: 0.4650\n",
            "Epoch 8/25\n",
            "1119/1119 [==============================] - 2s 2ms/step - loss: 0.4688 - val_loss: 0.4645\n",
            "Epoch 9/25\n",
            "1119/1119 [==============================] - 2s 2ms/step - loss: 0.4684 - val_loss: 0.4640\n",
            "Epoch 10/25\n",
            "1119/1119 [==============================] - 2s 2ms/step - loss: 0.4679 - val_loss: 0.4661\n",
            "Epoch 11/25\n",
            "1119/1119 [==============================] - 2s 2ms/step - loss: 0.4679 - val_loss: 0.4634\n",
            "Epoch 12/25\n",
            "1119/1119 [==============================] - 2s 2ms/step - loss: 0.4677 - val_loss: 0.4631\n",
            "Epoch 13/25\n",
            "1119/1119 [==============================] - 2s 2ms/step - loss: 0.4674 - val_loss: 0.4632\n",
            "Epoch 14/25\n",
            "1119/1119 [==============================] - 2s 2ms/step - loss: 0.4676 - val_loss: 0.4639\n",
            "Epoch 15/25\n",
            "1119/1119 [==============================] - 2s 2ms/step - loss: 0.4675 - val_loss: 0.4632\n",
            "Epoch 16/25\n",
            "1119/1119 [==============================] - 2s 2ms/step - loss: 0.4671 - val_loss: 0.4637\n",
            "Epoch 17/25\n",
            "1119/1119 [==============================] - 2s 2ms/step - loss: 0.4669 - val_loss: 0.4636\n",
            "Epoch 18/25\n",
            "1119/1119 [==============================] - 2s 2ms/step - loss: 0.4670 - val_loss: 0.4626\n",
            "Epoch 19/25\n",
            "1119/1119 [==============================] - 2s 2ms/step - loss: 0.4669 - val_loss: 0.4623\n",
            "Epoch 20/25\n",
            "1119/1119 [==============================] - 3s 2ms/step - loss: 0.4665 - val_loss: 0.4627\n",
            "Epoch 21/25\n",
            "1119/1119 [==============================] - 2s 2ms/step - loss: 0.4670 - val_loss: 0.4626\n",
            "Epoch 22/25\n",
            "1119/1119 [==============================] - 2s 2ms/step - loss: 0.4664 - val_loss: 0.4621\n",
            "Epoch 23/25\n",
            "1119/1119 [==============================] - 2s 2ms/step - loss: 0.4667 - val_loss: 0.4625\n",
            "Epoch 24/25\n",
            "1119/1119 [==============================] - 2s 2ms/step - loss: 0.4658 - val_loss: 0.4634\n",
            "Epoch 25/25\n",
            "1119/1119 [==============================] - 2s 2ms/step - loss: 0.4666 - val_loss: 0.4644\n"
          ]
        },
        {
          "output_type": "execute_result",
          "data": {
            "text/plain": [
              "<keras.callbacks.History at 0x7f67b0619550>"
            ]
          },
          "metadata": {},
          "execution_count": 25
        }
      ]
    },
    {
      "cell_type": "markdown",
      "source": [
        "# Evaluating the model"
      ],
      "metadata": {
        "id": "JrEFgetqrk8E"
      }
    },
    {
      "cell_type": "code",
      "source": [
        "losses = pd.DataFrame(model.history.history)\n",
        "losses[['loss', 'val_loss']].plot()"
      ],
      "metadata": {
        "id": "_zG7QwF84WWD",
        "outputId": "9bda4c5e-6da2-4450-fa36-11c743cb1869",
        "colab": {
          "base_uri": "https://localhost:8080/",
          "height": 283
        }
      },
      "execution_count": null,
      "outputs": [
        {
          "output_type": "execute_result",
          "data": {
            "text/plain": [
              "<matplotlib.axes._subplots.AxesSubplot at 0x7f67b060b150>"
            ]
          },
          "metadata": {},
          "execution_count": 26
        },
        {
          "output_type": "display_data",
          "data": {
            "image/png": "[encoded data removed]",
            "text/plain": [
              "<Figure size 432x288 with 1 Axes>"
            ]
          },
          "metadata": {
            "needs_background": "light"
          }
        }
      ]
    },
    {
      "cell_type": "code",
      "source": [
        "import random\n",
        "random.seed(42)\n",
        "rand_indx = random.randint(0,len(df))\n",
        "\n",
        "New_customer = df.drop('loan_repaid', axis=1).iloc[rand_indx]\n",
        "New_customer"
      ],
      "metadata": {
        "id": "3EhsC3kW4WQr",
        "outputId": "a593abb9-54c9-41ca-e452-8fd5aeb15624",
        "colab": {
          "base_uri": "https://localhost:8080/"
        }
      },
      "execution_count": null,
      "outputs": [
        {
          "output_type": "execute_result",
          "data": {
            "text/plain": [
              "loan_amnt                   20275.00\n",
              "term                           60.00\n",
              "int_rate                       14.99\n",
              "installment                   482.24\n",
              "sub_grade                      14.00\n",
              "home_ownership                  1.00\n",
              "annual_inc                  65000.00\n",
              "verification_status             1.00\n",
              "dti                            11.80\n",
              "open_acc                        5.00\n",
              "pub_rec                         0.00\n",
              "revol_bal                    3243.00\n",
              "revol_util                     47.00\n",
              "total_acc                      28.00\n",
              "application_type                1.00\n",
              "mort_acc                        2.00\n",
              "pub_rec_bankruptcies            0.00\n",
              "initial_list_status_nums        1.00\n",
              "earliest_cr_year             2003.00\n",
              "Name: 370914, dtype: float64"
            ]
          },
          "metadata": {},
          "execution_count": 27
        }
      ]
    },
    {
      "cell_type": "code",
      "source": [
        "prediction = model.predict(New_customer.values.reshape(1,19))\n",
        "np.argmax(prediction)"
      ],
      "metadata": {
        "colab": {
          "base_uri": "https://localhost:8080/"
        },
        "id": "1q00gN_N8Uyv",
        "outputId": "591fca6b-5eca-44ed-d705-5340c17d7184"
      },
      "execution_count": null,
      "outputs": [
        {
          "output_type": "execute_result",
          "data": {
            "text/plain": [
              "0"
            ]
          },
          "metadata": {},
          "execution_count": 28
        }
      ]
    },
    {
      "cell_type": "code",
      "source": [
        ""
      ],
      "metadata": {
        "id": "pJSntk0LrP5w"
      },
      "execution_count": null,
      "outputs": []
    }
  ]
}